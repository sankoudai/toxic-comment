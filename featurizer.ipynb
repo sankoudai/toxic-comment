{
 "cells": [
  {
   "cell_type": "code",
   "execution_count": 288,
   "metadata": {
    "collapsed": true
   },
   "outputs": [],
   "source": [
    "import pandas as pd, numpy as np\n",
    "from sklearn.base import BaseEstimator\n",
    "from sklearn.pipeline import FeatureUnion, make_union\n",
    "from importlib import reload "
   ]
  },
  {
   "cell_type": "code",
   "execution_count": 56,
   "metadata": {},
   "outputs": [],
   "source": [
    "# 重要特征词抽取: Gini系数\n",
    "from sklearn.feature_extraction.text import CountVectorizer\n",
    "\n",
    "# label\n",
    "df = pd.read_csv('data/train.csv')\n",
    "label_cols = ['toxic', 'severe_toxic', 'obscene', 'threat', 'insult', 'identity_hate']\n",
    "df['label'] = df[label_cols].max(axis=1)\n",
    "\n",
    "# P\n",
    "P = {}\n",
    "P[0] = len(df[df['label']==0]) / len(df)\n",
    "P[1] = len(df[df['label']==1]) / len(df)\n",
    "\n",
    "# p\n",
    "p = {}\n",
    "count_vect = CountVectorizer(analyzer='word', token_pattern=r'\\w{1,}')\n",
    "word_cnt = count_vect.fit_transform(df['comment_text'])\n",
    "words = count_vect.get_feature_names()\n",
    "for i in range(len(df)):\n",
    "    row = word_cnt.getrow(i)\n",
    "    label = df['label'][i]\n",
    "    for word_ind in row.indices:\n",
    "        if word_ind >= len(words):continue\n",
    "        if word_ind not in p: \n",
    "            p[word_ind] = [0,0,0]\n",
    "        p[word_ind][label] += 1\n",
    "        p[word_ind][2] += 1\n",
    "\n",
    "# gini\n",
    "ginis = []\n",
    "for word_ind in p:\n",
    "    norm_p0 = (p[0]/p[2]) / P[0]\n",
    "    norm_p1 = (p[1]/p[2]) / P[1]\n",
    "    gini = (norm_p0 / (norm_p0 + norm_p1))**2 + (norm_p1 / (norm_p0 + norm_p1))**2\n",
    "    \n",
    "    word = words[word_ind]\n",
    "    if pw[0] > 10:\n",
    "        continue\n",
    "    if (norm_p1< 0.50) or len(word)<=2:\n",
    "        continue\n",
    "    if word.isdigit():\n",
    "        continue\n",
    "    ginis.append(word, gini)\n",
    "\n",
    "ginis = sorted(ginis, key=lambda x:-x[1])\n",
    "\n",
    "with open('data/badwords.txt', 'w') as g:\n",
    "    line = 'word\\tgini\\n'\n",
    "    g.write(line)\n",
    "    for word, gini in ginis:\n",
    "        line = '{}\\t{}\\n'.format(word, gini)\n",
    "        g.write(line)"
   ]
  },
  {
   "cell_type": "code",
   "execution_count": 114,
   "metadata": {
    "collapsed": true
   },
   "outputs": [],
   "source": [
    "import re, string\n",
    "class WordExtractorFeaturer(BaseEstimator):\n",
    "    def __init__(self, words):\n",
    "        self.words = words\n",
    "        self.re_tok = re.compile(f'([{string.punctuation}“”¨«»®´·º½¾¿¡§£₤‘’])')\n",
    "        \n",
    "    def fit(self, xs, ys=None):\n",
    "        return self\n",
    "    \n",
    "    def transform(self, xs):\n",
    "        new_xs = []\n",
    "        for x in xs:\n",
    "            new_x = ' '.join([tok for tok in self._tokenize(x) if tok in self.words])\n",
    "            new_xs.append(new_x)\n",
    "        return new_xs\n",
    "            \n",
    "    def _tokenize(self, s): \n",
    "        return re_tok.sub(r' \\1 ', s).split()"
   ]
  },
  {
   "cell_type": "code",
   "execution_count": 257,
   "metadata": {
    "collapsed": true
   },
   "outputs": [],
   "source": [
    "class CharGrpExtractorFeaturer(BaseEstimator):\n",
    "    def __init__(self, char_grps=None):\n",
    "        self.char_grps = char_grps\n",
    "        self.re_tok = re.compile(f'([{string.punctuation}“”¨«»®´·º½¾¿¡§£₤‘’])')\n",
    "        \n",
    "    def fit(self, xs, ys=None):\n",
    "        return self\n",
    "    \n",
    "    def transform(self, xs):\n",
    "        new_xs = []\n",
    "        for x in xs:\n",
    "            grps = []\n",
    "            bigrps = []\n",
    "            for tok in self._tokenize(x):\n",
    "                grps.extend(extract_group(tok, min_length=3))\n",
    "                bigrps.extend(extract_ngroup(tok))\n",
    "                \n",
    "                print(tok, extract_ngroup(tok))\n",
    "            \n",
    "            new_x = ' '.join([grp for grp in grps if not self.char_grps or grp in self.char_grps])\n",
    "            new_x2 = ' '.join([grp for grp in bigrps if not self.char_grps or grp in self.char_grps])\n",
    "            new_xs.append(new_x + ' ' + new_x2)\n",
    "        return new_xs\n",
    "            \n",
    "    def _tokenize(self, s): \n",
    "        return re_tok.sub(r' \\1 ', s).split()"
   ]
  },
  {
   "cell_type": "code",
   "execution_count": 250,
   "metadata": {},
   "outputs": [],
   "source": [
    "sletters = ['a', 'e', 'i', 'o', 'u', 'y']\n",
    "def get_char_group(word):\n",
    "    if not word:\n",
    "        return ''\n",
    "    \n",
    "    if len(word)<=3:\n",
    "        return word\n",
    "    \n",
    "    grp = ''\n",
    "    #添加所有相连元音\n",
    "    for i, ch in enumerate(word):\n",
    "        if ch in sletters:\n",
    "            grp += ch\n",
    "        else:\n",
    "            break\n",
    "    if len(grp) == len(word):\n",
    "        return grp\n",
    "    \n",
    "    # 添加所有相连辅音，如word=blast,  grp=bl\n",
    "    starti = len(grp)\n",
    "    for i in range(starti, len(word)):\n",
    "        ch = word[i]\n",
    "        if ch not in sletters:\n",
    "            grp += ch\n",
    "        else:\n",
    "            break\n",
    "    if len(grp) == len(word):\n",
    "        return grp\n",
    "                \n",
    "    #添加所有元音，如word=blast, grp=bla\n",
    "    starti = len(grp)\n",
    "    for i in range(starti, len(word)):\n",
    "        ch = word[i]\n",
    "        if ch in sletters:\n",
    "            grp += ch\n",
    "        else:\n",
    "            break\n",
    "    if len(grp) == len(word):\n",
    "        return grp\n",
    "    \n",
    "    #添加所有相连辅音(除了最后一个)\n",
    "    starti = len(grp)\n",
    "    for i in range(starti, len(word)):\n",
    "        ch = word[i]\n",
    "        if ch not in sletters:\n",
    "            grp += ch\n",
    "        else:\n",
    "            break\n",
    "    if len(grp) == len(word):\n",
    "        return grp\n",
    "    return grp[:-1]"
   ]
  },
  {
   "cell_type": "code",
   "execution_count": 268,
   "metadata": {
    "collapsed": true
   },
   "outputs": [],
   "source": [
    "def extract_group(word, min_length=0):\n",
    "    groups = []\n",
    "    while word:\n",
    "        grp = get_char_group(word)\n",
    "        if not grp:\n",
    "            break\n",
    "        word = word[len(grp):]\n",
    "        if len(grp) >= min_length:\n",
    "            groups.append(grp)\n",
    "    return groups\n",
    "\n",
    "def extract_ngroup(word, n=2, max_length=100000):\n",
    "    groups = extract_group(word)\n",
    "    if len(groups) <n:\n",
    "        return []\n",
    "    ngroups = []\n",
    "    \n",
    "    for i in range(len(groups)-n+1):\n",
    "        ngrp =''.join(groups[i:i+n])\n",
    "        if len(ngrp) < max_length:\n",
    "            ngroups.append(''.join(groups[i:i+n]))\n",
    "    return ngroups"
   ]
  },
  {
   "cell_type": "code",
   "execution_count": 248,
   "metadata": {},
   "outputs": [
    {
     "name": "stdout",
     "output_type": "stream",
     "text": [
      "['o', 'm', 'y', 'g', 'o', 'd']\n"
     ]
    },
    {
     "data": {
      "text/plain": [
       "['omy god o m y g o d']"
      ]
     },
     "execution_count": 248,
     "metadata": {},
     "output_type": "execute_result"
    }
   ],
   "source": [
    "f.transform(['omygod'])"
   ]
  },
  {
   "cell_type": "code",
   "execution_count": 222,
   "metadata": {},
   "outputs": [],
   "source": [
    "from collections import defaultdict\n",
    "grp_dict = defaultdict(int)\n",
    "bigrp_dict = defaultdict(int)\n",
    "for w, g in ginis:\n",
    "    if w.isdigit():continue\n",
    "    for grp in extract_group(w):\n",
    "        if (len(grp)<3):\n",
    "            continue\n",
    "        grp_dict[grp] += 1\n",
    "    for grp in extract_ngroup(w, 2):\n",
    "        if (len(grp)>7):\n",
    "            continue\n",
    "        bigrp_dict[grp] += 1"
   ]
  },
  {
   "cell_type": "code",
   "execution_count": 286,
   "metadata": {},
   "outputs": [
    {
     "name": "stdout",
     "output_type": "stream",
     "text": [
      "Index(['word', 'gini'], dtype='object')\n",
      "cocksucker\n"
     ]
    }
   ],
   "source": [
    "bws = pd.read_csv('data/badwords.txt', sep='\\t')\n",
    "print(bws.columns)\n",
    "for wd in bws['word']:\n",
    "    print(wd)\n",
    "    break"
   ]
  },
  {
   "cell_type": "code",
   "execution_count": 287,
   "metadata": {},
   "outputs": [
    {
     "data": {
      "text/html": [
       "<div>\n",
       "<style scoped>\n",
       "    .dataframe tbody tr th:only-of-type {\n",
       "        vertical-align: middle;\n",
       "    }\n",
       "\n",
       "    .dataframe tbody tr th {\n",
       "        vertical-align: top;\n",
       "    }\n",
       "\n",
       "    .dataframe thead th {\n",
       "        text-align: right;\n",
       "    }\n",
       "</style>\n",
       "<table border=\"1\" class=\"dataframe\">\n",
       "  <thead>\n",
       "    <tr style=\"text-align: right;\">\n",
       "      <th></th>\n",
       "      <th>word</th>\n",
       "      <th>gini</th>\n",
       "    </tr>\n",
       "  </thead>\n",
       "  <tbody>\n",
       "    <tr>\n",
       "      <th>0</th>\n",
       "      <td>cocksucker</td>\n",
       "      <td>1.0</td>\n",
       "    </tr>\n",
       "    <tr>\n",
       "      <th>1</th>\n",
       "      <td>shwain</td>\n",
       "      <td>1.0</td>\n",
       "    </tr>\n",
       "    <tr>\n",
       "      <th>2</th>\n",
       "      <td>semitian</td>\n",
       "      <td>1.0</td>\n",
       "    </tr>\n",
       "    <tr>\n",
       "      <th>3</th>\n",
       "      <td>greetingshhh</td>\n",
       "      <td>1.0</td>\n",
       "    </tr>\n",
       "    <tr>\n",
       "      <th>4</th>\n",
       "      <td>antisemmitian</td>\n",
       "      <td>1.0</td>\n",
       "    </tr>\n",
       "  </tbody>\n",
       "</table>\n",
       "</div>"
      ],
      "text/plain": [
       "            word  gini\n",
       "0     cocksucker   1.0\n",
       "1         shwain   1.0\n",
       "2       semitian   1.0\n",
       "3   greetingshhh   1.0\n",
       "4  antisemmitian   1.0"
      ]
     },
     "execution_count": 287,
     "metadata": {},
     "output_type": "execute_result"
    }
   ],
   "source": [
    "bws.head()"
   ]
  },
  {
   "cell_type": "code",
   "execution_count": 269,
   "metadata": {},
   "outputs": [
    {
     "name": "stdout",
     "output_type": "stream",
     "text": [
      "this []\n",
      "is []\n",
      "test []\n",
      "omygod ['omygod']\n",
      "['this test omy god omygod']\n"
     ]
    }
   ],
   "source": [
    "f = CharGrpExtractorFeaturer()\n",
    "print(f.transform(['this is test omygod']))"
   ]
  },
  {
   "cell_type": "code",
   "execution_count": 263,
   "metadata": {},
   "outputs": [
    {
     "data": {
      "text/plain": [
       "['a', 's', 'd', 's', 'f']"
      ]
     },
     "execution_count": 263,
     "metadata": {},
     "output_type": "execute_result"
    }
   ],
   "source": [
    "a=[]\n",
    "a.extend('asdsf')\n",
    "a"
   ]
  },
  {
   "cell_type": "code",
   "execution_count": 209,
   "metadata": {},
   "outputs": [
    {
     "data": {
      "text/plain": [
       "(12831, 12271)"
      ]
     },
     "execution_count": 209,
     "metadata": {},
     "output_type": "execute_result"
    }
   ],
   "source": [
    "len(bigrp_dict), len(grp_dict)"
   ]
  },
  {
   "cell_type": "code",
   "execution_count": 124,
   "metadata": {
    "collapsed": true
   },
   "outputs": [],
   "source": [
    "import re, string\n",
    "class CharExtractorFeaturer(CountVectorizer):\n",
    "    def __init__(self, input='content', encoding='utf-8',\n",
    "                 decode_error='strict', strip_accents=None,\n",
    "                 lowercase=True, preprocessor=None, tokenizer=None,\n",
    "                 stop_words=None, token_pattern=r\"(?u)\\b\\w\\w+\\b\",\n",
    "                 ngram_range=(1, 1),\n",
    "                 max_df=1.0, min_df=1, max_features=None,\n",
    "                 vocabulary=None, binary=False, dtype=np.int64, chars=None):\n",
    "        super(CharExtractorFeaturer, self).__init__(input='content', encoding='utf-8',\n",
    "                 decode_error='strict', strip_accents=None,\n",
    "                 lowercase=True, preprocessor=None, tokenizer=None,\n",
    "                 stop_words=None, token_pattern=r\"(?u)\\b\\w\\w+\\b\",\n",
    "                 ngram_range=(1, 1), analyzer='char',\n",
    "                 max_df=1.0, min_df=1, max_features=None,\n",
    "                 vocabulary=None, binary=False, dtype=np.int64)\n",
    "        self.chars = chars\n",
    "        self.re_tok = re.compile(f'([{string.punctuation}“”¨«»®´·º½¾¿¡§£₤‘’])')\n",
    "        \n",
    "    def _char_ngrams(self, text_document):\n",
    "        \"\"\"Tokenize text_document into a sequence of character n-grams\"\"\"\n",
    "        # normalize white spaces\n",
    "        text_document = self._white_spaces.sub(\" \", text_document)\n",
    "\n",
    "        text_len = len(text_document)\n",
    "        min_n, max_n = self.ngram_range\n",
    "        if min_n == 1:\n",
    "            # no need to do any slicing for unigrams\n",
    "            # iterate through the string\n",
    "            ngrams = list(text_document)\n",
    "            min_n += 1\n",
    "        else:\n",
    "            ngrams = []\n",
    "\n",
    "        # bind method outside of loop to reduce overhead\n",
    "        ngrams_append = ngrams.append\n",
    "        \n",
    "        for n in range(min_n, min(max_n + 1, text_len + 1)):\n",
    "            for i in range(text_len - n + 1):\n",
    "                piece = text_document[i: i + n]\n",
    "                if self.chars and piece in self.chars:\n",
    "                    ngrams_append(piece)\n",
    "        return ngrams"
   ]
  },
  {
   "cell_type": "code",
   "execution_count": 127,
   "metadata": {},
   "outputs": [
    {
     "data": {
      "text/plain": [
       "matrix([[3, 1, 1, 0, 1, 2, 0, 0, 0, 0, 0, 3, 3, 0],\n",
       "        [1, 0, 1, 1, 0, 1, 1, 1, 1, 1, 1, 0, 0, 0],\n",
       "        [1, 0, 2, 0, 1, 0, 0, 0, 1, 1, 1, 0, 0, 1]])"
      ]
     },
     "execution_count": 127,
     "metadata": {},
     "output_type": "execute_result"
    }
   ],
   "source": [
    "words = ['this', 'test']\n",
    "f = CharExtractorFeaturer(chars = words, ngram_range=(2,2))\n",
    "f.fit(t)\n",
    "f.transform(t).todense()"
   ]
  },
  {
   "cell_type": "code",
   "execution_count": 112,
   "metadata": {},
   "outputs": [],
   "source": [
    "t = pd.Series([\"this is a test\", \"line from\", \" nowhere\"])"
   ]
  },
  {
   "cell_type": "code",
   "execution_count": 104,
   "metadata": {
    "collapsed": true
   },
   "outputs": [],
   "source": [
    "import re, string\n",
    "re_tok = re.compile(f'([{string.punctuation}“”¨«»®´·º½¾¿¡§£₤‘’])')\n",
    "def tokenize(s): return re_tok.sub(r' \\1 ', s).split()"
   ]
  },
  {
   "cell_type": "code",
   "execution_count": 128,
   "metadata": {},
   "outputs": [
    {
     "data": {
      "text/plain": [
       "[('tharkarn', 1.0),\n",
       " ('hunjan', 1.0),\n",
       " ('millinos', 1.0),\n",
       " ('trollreasons', 1.0),\n",
       " ('diz', 1.0),\n",
       " ('carrierz', 1.0),\n",
       " ('otha', 1.0),\n",
       " ('kupla', 1.0),\n",
       " ('roun', 1.0),\n",
       " ('wrapt', 1.0),\n",
       " ('bdh', 1.0),\n",
       " ('sumptin', 1.0),\n",
       " ('fergit', 1.0),\n",
       " ('aftah', 1.0),\n",
       " ('fohget', 1.0),\n",
       " ('leedle', 1.0),\n",
       " ('fuhst', 1.0),\n",
       " ('remindah', 1.0),\n",
       " ('wallz', 1.0),\n",
       " ('rangerz', 1.0),\n",
       " ('hollerin', 1.0),\n",
       " ('sistahs', 1.0),\n",
       " ('brotherz', 1.0),\n",
       " ('gitz', 1.0),\n",
       " ('latah', 1.0),\n",
       " ('gooood', 1.0),\n",
       " ('mothafuckin', 1.0),\n",
       " ('sodomize', 1.0),\n",
       " ('oversited', 1.0),\n",
       " ('gorf', 1.0)]"
      ]
     },
     "execution_count": 128,
     "metadata": {},
     "output_type": "execute_result"
    }
   ],
   "source": [
    "ginis[100:130]"
   ]
  },
  {
   "cell_type": "code",
   "execution_count": 118,
   "metadata": {},
   "outputs": [
    {
     "data": {
      "text/plain": [
       "['t', 'h', 'i', 's', ' ', 'i', 's', ' ', 'a', ' ', 't', 'e', 's', 't', '<']"
      ]
     },
     "execution_count": 118,
     "metadata": {},
     "output_type": "execute_result"
    }
   ],
   "source": [
    "list(\"this is a test<\")"
   ]
  },
  {
   "cell_type": "code",
   "execution_count": 117,
   "metadata": {
    "collapsed": true
   },
   "outputs": [],
   "source": [
    "CountVectorizer?"
   ]
  },
  {
   "cell_type": "code",
   "execution_count": null,
   "metadata": {
    "collapsed": true
   },
   "outputs": [],
   "source": []
  }
 ],
 "metadata": {
  "kernelspec": {
   "display_name": "Python 3",
   "language": "python",
   "name": "python3"
  },
  "language_info": {
   "codemirror_mode": {
    "name": "ipython",
    "version": 3
   },
   "file_extension": ".py",
   "mimetype": "text/x-python",
   "name": "python",
   "nbconvert_exporter": "python",
   "pygments_lexer": "ipython3",
   "version": "3.6.1"
  }
 },
 "nbformat": 4,
 "nbformat_minor": 2
}
